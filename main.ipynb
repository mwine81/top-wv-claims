{
 "cells": [
  {
   "cell_type": "code",
   "execution_count": 2,
   "id": "ebd3f1eb",
   "metadata": {},
   "outputs": [],
   "source": [
    "from scratch import query_high_low_quantile\n",
    "import polars as pl\n",
    "from polars import col as c\n",
    "import polars.selectors as cs"
   ]
  },
  {
   "cell_type": "markdown",
   "id": "2893fac9",
   "metadata": {},
   "source": [
    "## Purpose\n",
    "\n",
    "Identify trends in pharmacy margin using NADAC as an estimated cost basis.\n",
    "\n",
    "## Key questions\n",
    "- Are there systematic differences in reimbursement between PBM-affiliated and non‑affiliated pharmacies?\n",
    "- Which providers lie in the tails of the margin distribution (1st and 99th percentiles)?\n",
    "\n",
    "## Data sources\n",
    "- WV OIG PBM NADAC Reporting\n",
    "- CMS NADAC Reporting\n",
    "- Claims dataset with fields including: `total`, `nadac`, `affiliate`, `ndc`, `drug`, `date`\n",
    "\n",
    "## Definitions\n",
    "- **Pharmacy margin** = `total - nadac` (positive => paid more than NADAC; negative => paid below NADAC).\n",
    "- **affiliate** = whether the pharmacy is affiliated with the PBM (as provided in the dataset).\n",
    "\n",
    "## Methods (summary)\n",
    "1. Compute `margin = total - nadac` at the claim level and create aggregated summaries.\n",
    "2. Group results by `affiliate` and compare central tendency (median), spread (IQR), and tails (1st/99th percentiles).\n",
    "3. Visualize distributions (boxplots/violins), time trends, and list top outliers by margin and volume for manual review.\n",
    "\n",
    "## Outputs\n",
    "- Summary table by `affiliate`: count, median margin, 1st/99th percentiles.\n",
    "- Visualizations: distribution plots and time series of margins.\n",
    "- CSV with top N outlier providers for follow-up.\n",
    "\n",
    "## Caveats\n",
    "- NADAC is an estimate of acquisition cost and may not reflect discounts, rebates, or special pricing agreements."
   ]
  },
  {
   "cell_type": "code",
   "execution_count": 3,
   "id": "86720cfd",
   "metadata": {},
   "outputs": [
    {
     "name": "stderr",
     "output_type": "stream",
     "text": [
      "C:\\Users\\mwine\\AppData\\Local\\Temp\\ipykernel_5268\\3138193852.py:2: UserWarning: Sortedness of columns cannot be checked when 'by' groups provided\n",
      "  query_high_low_quantile(0.01, 0.99)\n"
     ]
    },
    {
     "data": {
      "application/vnd.microsoft.datawrangler.viewer.v0+json": {
       "columns": [
        {
         "name": "index",
         "rawType": "int64",
         "type": "integer"
        },
        {
         "name": "affiliate",
         "rawType": "bool",
         "type": "boolean"
        },
        {
         "name": "low",
         "rawType": "float64",
         "type": "float"
        },
        {
         "name": "high",
         "rawType": "float64",
         "type": "float"
        },
        {
         "name": "net",
         "rawType": "float64",
         "type": "float"
        },
        {
         "name": "net_pct_change",
         "rawType": "float64",
         "type": "float"
        }
       ],
       "ref": "961395b6-8e74-4966-b015-9394be5468ac",
       "rows": [
        [
         "0",
         "False",
         "-27.69",
         "146.69",
         "119.0",
         null
        ],
        [
         "1",
         "True",
         "-119.5",
         "445.43",
         "325.93",
         "1.7389075630252102"
        ]
       ],
       "shape": {
        "columns": 5,
        "rows": 2
       }
      },
      "text/html": [
       "<div>\n",
       "<style scoped>\n",
       "    .dataframe tbody tr th:only-of-type {\n",
       "        vertical-align: middle;\n",
       "    }\n",
       "\n",
       "    .dataframe tbody tr th {\n",
       "        vertical-align: top;\n",
       "    }\n",
       "\n",
       "    .dataframe thead th {\n",
       "        text-align: right;\n",
       "    }\n",
       "</style>\n",
       "<table border=\"1\" class=\"dataframe\">\n",
       "  <thead>\n",
       "    <tr style=\"text-align: right;\">\n",
       "      <th></th>\n",
       "      <th>affiliate</th>\n",
       "      <th>low</th>\n",
       "      <th>high</th>\n",
       "      <th>net</th>\n",
       "      <th>net_pct_change</th>\n",
       "    </tr>\n",
       "  </thead>\n",
       "  <tbody>\n",
       "    <tr>\n",
       "      <th>0</th>\n",
       "      <td>False</td>\n",
       "      <td>-27.69</td>\n",
       "      <td>146.69</td>\n",
       "      <td>119.00</td>\n",
       "      <td>NaN</td>\n",
       "    </tr>\n",
       "    <tr>\n",
       "      <th>1</th>\n",
       "      <td>True</td>\n",
       "      <td>-119.50</td>\n",
       "      <td>445.43</td>\n",
       "      <td>325.93</td>\n",
       "      <td>1.738908</td>\n",
       "    </tr>\n",
       "  </tbody>\n",
       "</table>\n",
       "</div>"
      ],
      "text/plain": [
       "   affiliate     low    high     net  net_pct_change\n",
       "0      False  -27.69  146.69  119.00             NaN\n",
       "1       True -119.50  445.43  325.93        1.738908"
      ]
     },
     "execution_count": 3,
     "metadata": {},
     "output_type": "execute_result"
    }
   ],
   "source": [
    "(\n",
    "query_high_low_quantile(0.01, 0.99)\n",
    ".collect(engine='streaming')\n",
    ".to_pandas()\n",
    "# .style\n",
    "# .tab_header('Margin Over NADAC', subtitle='Top 1% and Bottom 1% of Claims')\n",
    "# .fmt_currency(cs.matches('(?i)low|high|net$'), accounting=True)\n",
    "# .fmt_percent(cs.matches('(?i)pct'), decimals=0)\n",
    "# .cols_width({\n",
    "#     'low': '150px',\n",
    "#     'high': '150px',\n",
    "#     'net': '150px',\n",
    "#     'net_pct_change': '150px'\n",
    "# })\n",
    "# .md()\n",
    ")"
   ]
  },
  {
   "cell_type": "code",
   "execution_count": null,
   "id": "3a491646",
   "metadata": {},
   "outputs": [],
   "source": []
  }
 ],
 "metadata": {
  "kernelspec": {
   "display_name": "top-wv-claims",
   "language": "python",
   "name": "python3"
  },
  "language_info": {
   "codemirror_mode": {
    "name": "ipython",
    "version": 3
   },
   "file_extension": ".py",
   "mimetype": "text/x-python",
   "name": "python",
   "nbconvert_exporter": "python",
   "pygments_lexer": "ipython3",
   "version": "3.10.16"
  }
 },
 "nbformat": 4,
 "nbformat_minor": 5
}
