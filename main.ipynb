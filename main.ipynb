{
 "cells": [
  {
   "cell_type": "code",
   "execution_count": 1,
   "id": "ebd3f1eb",
   "metadata": {},
   "outputs": [],
   "source": [
    "from query import query_high_low_quantile, calculate_standardized_margin_comparison_quallent\n",
    "import polars as pl\n",
    "from polars import col as c\n",
    "import polars.selectors as cs\n",
    "import warnings\n",
    "warnings.filterwarnings('ignore')"
   ]
  },
  {
   "cell_type": "markdown",
   "id": "2893fac9",
   "metadata": {},
   "source": [
    "## Purpose\n",
    "\n",
    "Identify trends in pharmacy margin using NADAC as an estimated cost basis.\n",
    "\n",
    "## Key questions\n",
    "- Are there systematic differences in reimbursement between PBM-affiliated and non‑affiliated pharmacies?\n",
    "- Which providers lie in the tails of the margin distribution (1st and 99th percentiles)?\n",
    "\n",
    "## Data sources\n",
    "- WV OIG PBM NADAC Reporting\n",
    "    - Contains pharmacy claims data submitted by PBMs to the West Virginia Offices of the Insurance Commissioner (OIC) and Office of the Inspector General (OIG). Each record includes claim-level details such as total reimbursement paid to the pharmacy, the CMS-published National Average Drug Acquisition Cost (NADAC) for the dispensed drug, pharmacy affiliation status, National Drug Code (NDC), drug name, and date of service. The dataset is used to assess pharmacy reimbursement relative to NADAC and to identify potential outliers or trends in pharmacy margins.\n",
    "- CMS NADAC Reporting  \n",
    "    - The National Average Drug Acquisition Cost (NADAC) is a federal price benchmark published weekly by CMS for prescription drugs reimbursed by Medicaid. NADAC reflects the national average invoice price paid by retail community pharmacies to acquire prescription and over-the-counter drugs. It is intended to represent the typical acquisition cost for pharmacies, excluding rebates, discounts, or special pricing arrangements. More information is available at [medicaid.gov/nadac](https://www.medicaid.gov/medicaid/nadac).\n",
    "\n",
    "\n",
    "\n",
    "## Definitions\n",
    "- **Pharmacy margin** = `total - nadac` (positive => paid more than NADAC; negative => paid below NADAC).\n",
    "- **affiliate** = whether the pharmacy is affiliated with the PBM (as provided in the dataset).\n",
    "\n",
    "## Methods (summary)\n",
    "1. Compute `margin = total - nadac` at the claim level.\n",
    "2. Group results by `affiliate` and compare tails (1st/99th percentiles) to see how the distribution differs.\n",
    "3. Limit to the most recent last 2 full years (2023 and 2024)\n",
    "\n",
    "## Outputs\n",
    "- Summary table by `affiliate`: count, median margin, 1st/99th percentiles.\n",
    "- Visualizations: distribution plots and time series of margins.\n",
    "- CSV with top N outlier providers for follow-up.\n",
    "\n",
    "## Caveats\n",
    "- NADAC is an estimate of acquisition cost and may not reflect discounts, rebates, or special pricing agreements."
   ]
  },
  {
   "cell_type": "markdown",
   "id": "58fab3a2",
   "metadata": {},
   "source": [
    "### Analysis Comparing the Least and Most Profitable Prescriptions - Affiliated vs Non-Affiliated Pharmacies"
   ]
  },
  {
   "cell_type": "code",
   "execution_count": 2,
   "id": "3a491646",
   "metadata": {},
   "outputs": [
    {
     "data": {
      "application/vnd.microsoft.datawrangler.viewer.v0+json": {
       "columns": [
        {
         "name": "index",
         "rawType": "int64",
         "type": "integer"
        },
        {
         "name": "affiliate",
         "rawType": "bool",
         "type": "boolean"
        },
        {
         "name": "low",
         "rawType": "float64",
         "type": "float"
        },
        {
         "name": "high",
         "rawType": "float64",
         "type": "float"
        },
        {
         "name": "net",
         "rawType": "float64",
         "type": "float"
        },
        {
         "name": "%_diff",
         "rawType": "float64",
         "type": "float"
        }
       ],
       "ref": "24d10243-b449-48b9-b14e-b8f5ceaf5084",
       "rows": [
        [
         "0",
         "False",
         "-27.69",
         "146.69",
         "119.0",
         null
        ],
        [
         "1",
         "True",
         "-119.5",
         "445.43",
         "325.93",
         "1.74"
        ]
       ],
       "shape": {
        "columns": 5,
        "rows": 2
       }
      },
      "text/html": [
       "<div>\n",
       "<style scoped>\n",
       "    .dataframe tbody tr th:only-of-type {\n",
       "        vertical-align: middle;\n",
       "    }\n",
       "\n",
       "    .dataframe tbody tr th {\n",
       "        vertical-align: top;\n",
       "    }\n",
       "\n",
       "    .dataframe thead th {\n",
       "        text-align: right;\n",
       "    }\n",
       "</style>\n",
       "<table border=\"1\" class=\"dataframe\">\n",
       "  <thead>\n",
       "    <tr style=\"text-align: right;\">\n",
       "      <th></th>\n",
       "      <th>affiliate</th>\n",
       "      <th>low</th>\n",
       "      <th>high</th>\n",
       "      <th>net</th>\n",
       "      <th>%_diff</th>\n",
       "    </tr>\n",
       "  </thead>\n",
       "  <tbody>\n",
       "    <tr>\n",
       "      <th>0</th>\n",
       "      <td>False</td>\n",
       "      <td>-27.69</td>\n",
       "      <td>146.69</td>\n",
       "      <td>119.00</td>\n",
       "      <td>NaN</td>\n",
       "    </tr>\n",
       "    <tr>\n",
       "      <th>1</th>\n",
       "      <td>True</td>\n",
       "      <td>-119.50</td>\n",
       "      <td>445.43</td>\n",
       "      <td>325.93</td>\n",
       "      <td>1.74</td>\n",
       "    </tr>\n",
       "  </tbody>\n",
       "</table>\n",
       "</div>"
      ],
      "text/plain": [
       "   affiliate     low    high     net  %_diff\n",
       "0      False  -27.69  146.69  119.00     NaN\n",
       "1       True -119.50  445.43  325.93    1.74"
      ]
     },
     "execution_count": 2,
     "metadata": {},
     "output_type": "execute_result"
    }
   ],
   "source": [
    "query_high_low_quantile(0.01,0.99).collect(engine='streaming').to_pandas()"
   ]
  },
  {
   "cell_type": "markdown",
   "id": "d36ad69f",
   "metadata": {},
   "source": [
    "### Query High and Low Quantiles\n",
    "\n",
    "- **Affiliated pharmacies** experienced substantially larger losses on the least profitable prescriptions (1st percentile margin: **-119.50**) compared to non-affiliated pharmacies (**-27.69**).\n",
    "- On the most profitable prescriptions (99th percentile), affiliated pharmacies achieved much higher average margins (**445.43**) than non-affiliated pharmacies (**146.69**).\n",
    "- The net difference between the 99th and 1st percentile margins was significantly greater for affiliated pharmacies (**325.93** vs **119.00**), representing a **174% net improvement** over non-affiliated pharmacies.\n",
    "\n",
    "These findings suggest that affiliated pharmacies are exposed to both greater downside and upside in reimbursement, with a markedly higher net gain at the extremes."
   ]
  },
  {
   "cell_type": "markdown",
   "id": "6a3cfe50",
   "metadata": {},
   "source": [
    "# Are there cases where PBM private label products have higher margins than non-private label?\n",
    "\n",
    "### Background\n",
    "- Evernorth is a health services division of Cigna, and Quallent is a pharmacy services subsidiary under Evernorth. Quallent operates as a private label pharmacy benefit manager (PBM) platform, providing PBM services and solutions often integrated with Evernorth’s broader health services.\n",
    "\n",
    "### Objective\n",
    "- Identify instances where PBM private-label products (Quallent-managed NDCs/GPIs) show higher standardized margins than non-private-label products for the same GPI.\n",
    "\n",
    "#### Contract / Quick contract (inputs, outputs, success):\n",
    "- Inputs: claims dataset (loaded by `load_data()`), NADAC/unit_price, `gpi`, NDC-level flags (Quallent), and quantity columns used by `standardize_margin()`.\n",
    "- Output: a table with one row per `gpi` containing median standardized margin for Quallent NDCs and non-Quallent NDCs, the difference (qualient - other), median quantity, median_nadac, and generic_name.\n",
    "- Success: rows where `difference` is positive indicate GPIs where Quallent private-label products have higher median standardized margins than their non-private-label counterparts.\n",
    "\n",
    "#### Methods (detailed)\n",
    "1. Filter to ESI reportings and GPI scope related to Quallent (the query helper will apply `is_esi_reporting()` and `is_quallent_gpis()`).\n",
    "2. Flag claims that are Quallent NDCs via `is_quallent_ndcs()`.\n",
    "3. Compute a standardized margin per GPI with `standardize_margin()` so differences are comparable across pack sizes/qtys.\n",
    "4. Aggregate to median standardized margin at the GPI level separately for Quallent and non‑Quallent NDCs, then pivot so both groups appear on the same row and compute `difference = qualient - other`.\n",
    "5. Join product metadata (generic name) and median NADAC to aid interpretation, then sort by `difference` descending to highlight GPIs where Quallent products have the largest positive margin advantage.\n",
    "\n",
    "#### How to interpret results\n",
    "- `difference > 0`: Quallent private-label products have higher median standardized margins for that GPI.\n",
    "- `median_nadac` and `median_qty` provide scale context; prioritize GPIs with meaningful `total_gpi`/volume for follow-up.\n",
    "\n",
    "#### Edge cases and caveats\n",
    "- Only GPIs with observations for both Quallent and non-Quallent NDCs are returned (the query filters out others).\n",
    "- Standardization aims to normalize unit differences, but check raw totals and volume to avoid over-emphasizing low-volume outliers.\n",
    "- NADAC may not reflect rebates or special pricing; use results as signals for investigation, not definitive proof of overpayment.\n",
    "\n"
   ]
  },
  {
   "cell_type": "code",
   "execution_count": 3,
   "id": "27b949c2",
   "metadata": {},
   "outputs": [
    {
     "data": {
      "application/vnd.microsoft.datawrangler.viewer.v0+json": {
       "columns": [
        {
         "name": "index",
         "rawType": "int64",
         "type": "integer"
        },
        {
         "name": "gpi",
         "rawType": "object",
         "type": "string"
        },
        {
         "name": "median_qty",
         "rawType": "float64",
         "type": "float"
        },
        {
         "name": "true",
         "rawType": "float64",
         "type": "float"
        },
        {
         "name": "false",
         "rawType": "float64",
         "type": "float"
        },
        {
         "name": "difference",
         "rawType": "float64",
         "type": "float"
        },
        {
         "name": "generic_name",
         "rawType": "object",
         "type": "string"
        },
        {
         "name": "median_nadac",
         "rawType": "float64",
         "type": "float"
        }
       ],
       "ref": "33d13030-f34d-4f6d-93cd-ea4c1b8e4f4d",
       "rows": [
        [
         "0",
         "21-53-18-35-10-03-20",
         "105.0",
         "5257.64",
         "1422.67",
         "3834.97",
         "Imatinib Mesylate Tab 100 MG (Base Equivalent)",
         "63.92"
        ],
        [
         "1",
         "40-14-30-60-10-03-20",
         "45.0",
         "233.41",
         "97.93",
         "135.48",
         "Sildenafil Citrate Tab 20 MG",
         "3.15"
        ],
        [
         "2",
         "40-30-40-80-00-03-20",
         "6.0",
         "94.85",
         "10.71",
         "84.14",
         "Tadalafil Tab 20 MG",
         "1.58"
        ],
        [
         "3",
         "58-18-00-25-10-67-40",
         "90.0",
         "265.3",
         "192.06",
         "73.24",
         "Duloxetine HCl Enteric Coated Pellets Cap 40 MG (Base Eq)",
         "120.13"
        ],
        [
         "4",
         "40-30-40-80-00-03-05",
         "30.0",
         "82.1",
         "11.48",
         "70.62",
         "Tadalafil Tab 5 MG",
         "4.41"
        ],
        [
         "5",
         "72-60-00-43-00-03-50",
         "180.0",
         "52.13",
         "39.49",
         "12.64",
         "Levetiracetam Tab 1000 MG",
         "34.87"
        ],
        [
         "6",
         "21-53-18-35-10-03-40",
         "30.0",
         "5412.67",
         "5401.31",
         "11.36",
         "Imatinib Mesylate Tab 400 MG (Base Equivalent)",
         "56.37"
        ],
        [
         "7",
         "49-27-00-40-00-65-20",
         "90.0",
         "41.99",
         "34.44",
         "7.55",
         "Lansoprazole Cap Delayed Release 30 MG",
         "10.0"
        ],
        [
         "8",
         "72-60-00-30-00-03-40",
         "90.0",
         "13.22",
         "6.69",
         "6.53",
         "Gabapentin Tab 800 MG",
         "10.54"
        ],
        [
         "9",
         "27-25-00-50-00-75-30",
         "90.0",
         "17.04",
         "10.57",
         "6.47",
         "Metformin HCl Tab ER 24HR 750 MG",
         "5.9"
        ]
       ],
       "shape": {
        "columns": 7,
        "rows": 10
       }
      },
      "text/html": [
       "<div>\n",
       "<style scoped>\n",
       "    .dataframe tbody tr th:only-of-type {\n",
       "        vertical-align: middle;\n",
       "    }\n",
       "\n",
       "    .dataframe tbody tr th {\n",
       "        vertical-align: top;\n",
       "    }\n",
       "\n",
       "    .dataframe thead th {\n",
       "        text-align: right;\n",
       "    }\n",
       "</style>\n",
       "<table border=\"1\" class=\"dataframe\">\n",
       "  <thead>\n",
       "    <tr style=\"text-align: right;\">\n",
       "      <th></th>\n",
       "      <th>gpi</th>\n",
       "      <th>median_qty</th>\n",
       "      <th>true</th>\n",
       "      <th>false</th>\n",
       "      <th>difference</th>\n",
       "      <th>generic_name</th>\n",
       "      <th>median_nadac</th>\n",
       "    </tr>\n",
       "  </thead>\n",
       "  <tbody>\n",
       "    <tr>\n",
       "      <th>0</th>\n",
       "      <td>21-53-18-35-10-03-20</td>\n",
       "      <td>105.0</td>\n",
       "      <td>5257.64</td>\n",
       "      <td>1422.67</td>\n",
       "      <td>3834.97</td>\n",
       "      <td>Imatinib Mesylate Tab 100 MG (Base Equivalent)</td>\n",
       "      <td>63.92</td>\n",
       "    </tr>\n",
       "    <tr>\n",
       "      <th>1</th>\n",
       "      <td>40-14-30-60-10-03-20</td>\n",
       "      <td>45.0</td>\n",
       "      <td>233.41</td>\n",
       "      <td>97.93</td>\n",
       "      <td>135.48</td>\n",
       "      <td>Sildenafil Citrate Tab 20 MG</td>\n",
       "      <td>3.15</td>\n",
       "    </tr>\n",
       "    <tr>\n",
       "      <th>2</th>\n",
       "      <td>40-30-40-80-00-03-20</td>\n",
       "      <td>6.0</td>\n",
       "      <td>94.85</td>\n",
       "      <td>10.71</td>\n",
       "      <td>84.14</td>\n",
       "      <td>Tadalafil Tab 20 MG</td>\n",
       "      <td>1.58</td>\n",
       "    </tr>\n",
       "    <tr>\n",
       "      <th>3</th>\n",
       "      <td>58-18-00-25-10-67-40</td>\n",
       "      <td>90.0</td>\n",
       "      <td>265.30</td>\n",
       "      <td>192.06</td>\n",
       "      <td>73.24</td>\n",
       "      <td>Duloxetine HCl Enteric Coated Pellets Cap 40 M...</td>\n",
       "      <td>120.13</td>\n",
       "    </tr>\n",
       "    <tr>\n",
       "      <th>4</th>\n",
       "      <td>40-30-40-80-00-03-05</td>\n",
       "      <td>30.0</td>\n",
       "      <td>82.10</td>\n",
       "      <td>11.48</td>\n",
       "      <td>70.62</td>\n",
       "      <td>Tadalafil Tab 5 MG</td>\n",
       "      <td>4.41</td>\n",
       "    </tr>\n",
       "    <tr>\n",
       "      <th>5</th>\n",
       "      <td>72-60-00-43-00-03-50</td>\n",
       "      <td>180.0</td>\n",
       "      <td>52.13</td>\n",
       "      <td>39.49</td>\n",
       "      <td>12.64</td>\n",
       "      <td>Levetiracetam Tab 1000 MG</td>\n",
       "      <td>34.87</td>\n",
       "    </tr>\n",
       "    <tr>\n",
       "      <th>6</th>\n",
       "      <td>21-53-18-35-10-03-40</td>\n",
       "      <td>30.0</td>\n",
       "      <td>5412.67</td>\n",
       "      <td>5401.31</td>\n",
       "      <td>11.36</td>\n",
       "      <td>Imatinib Mesylate Tab 400 MG (Base Equivalent)</td>\n",
       "      <td>56.37</td>\n",
       "    </tr>\n",
       "    <tr>\n",
       "      <th>7</th>\n",
       "      <td>49-27-00-40-00-65-20</td>\n",
       "      <td>90.0</td>\n",
       "      <td>41.99</td>\n",
       "      <td>34.44</td>\n",
       "      <td>7.55</td>\n",
       "      <td>Lansoprazole Cap Delayed Release 30 MG</td>\n",
       "      <td>10.00</td>\n",
       "    </tr>\n",
       "    <tr>\n",
       "      <th>8</th>\n",
       "      <td>72-60-00-30-00-03-40</td>\n",
       "      <td>90.0</td>\n",
       "      <td>13.22</td>\n",
       "      <td>6.69</td>\n",
       "      <td>6.53</td>\n",
       "      <td>Gabapentin Tab 800 MG</td>\n",
       "      <td>10.54</td>\n",
       "    </tr>\n",
       "    <tr>\n",
       "      <th>9</th>\n",
       "      <td>27-25-00-50-00-75-30</td>\n",
       "      <td>90.0</td>\n",
       "      <td>17.04</td>\n",
       "      <td>10.57</td>\n",
       "      <td>6.47</td>\n",
       "      <td>Metformin HCl Tab ER 24HR 750 MG</td>\n",
       "      <td>5.90</td>\n",
       "    </tr>\n",
       "  </tbody>\n",
       "</table>\n",
       "</div>"
      ],
      "text/plain": [
       "                    gpi  median_qty     true    false  difference  \\\n",
       "0  21-53-18-35-10-03-20       105.0  5257.64  1422.67     3834.97   \n",
       "1  40-14-30-60-10-03-20        45.0   233.41    97.93      135.48   \n",
       "2  40-30-40-80-00-03-20         6.0    94.85    10.71       84.14   \n",
       "3  58-18-00-25-10-67-40        90.0   265.30   192.06       73.24   \n",
       "4  40-30-40-80-00-03-05        30.0    82.10    11.48       70.62   \n",
       "5  72-60-00-43-00-03-50       180.0    52.13    39.49       12.64   \n",
       "6  21-53-18-35-10-03-40        30.0  5412.67  5401.31       11.36   \n",
       "7  49-27-00-40-00-65-20        90.0    41.99    34.44        7.55   \n",
       "8  72-60-00-30-00-03-40        90.0    13.22     6.69        6.53   \n",
       "9  27-25-00-50-00-75-30        90.0    17.04    10.57        6.47   \n",
       "\n",
       "                                        generic_name  median_nadac  \n",
       "0     Imatinib Mesylate Tab 100 MG (Base Equivalent)         63.92  \n",
       "1                       Sildenafil Citrate Tab 20 MG          3.15  \n",
       "2                                Tadalafil Tab 20 MG          1.58  \n",
       "3  Duloxetine HCl Enteric Coated Pellets Cap 40 M...        120.13  \n",
       "4                                 Tadalafil Tab 5 MG          4.41  \n",
       "5                          Levetiracetam Tab 1000 MG         34.87  \n",
       "6     Imatinib Mesylate Tab 400 MG (Base Equivalent)         56.37  \n",
       "7             Lansoprazole Cap Delayed Release 30 MG         10.00  \n",
       "8                              Gabapentin Tab 800 MG         10.54  \n",
       "9                   Metformin HCl Tab ER 24HR 750 MG          5.90  "
      ]
     },
     "execution_count": 3,
     "metadata": {},
     "output_type": "execute_result"
    }
   ],
   "source": [
    "# Example: preview top GPIs where Quallent (private-label) has higher standardized margins\n",
    "# The function returns a lazy frame; we head() then collect to limit memory and stream the results.\n",
    "df_qualient = calculate_standardized_margin_comparison_quallent().head(10).collect(engine='streaming')\n",
    "# show the top results in a pandas-friendly view\n",
    "df_qualient.to_pandas()"
   ]
  },
  {
   "cell_type": "markdown",
   "id": "504244c3",
   "metadata": {},
   "source": []
  },
  {
   "cell_type": "code",
   "execution_count": null,
   "id": "7f110f25",
   "metadata": {
    "vscode": {
     "languageId": "markdown"
    }
   },
   "outputs": [],
   "source": []
  },
  {
   "cell_type": "code",
   "execution_count": null,
   "id": "eaa1d902",
   "metadata": {
    "vscode": {
     "languageId": "markdown"
    }
   },
   "outputs": [],
   "source": []
  },
  {
   "cell_type": "code",
   "execution_count": null,
   "id": "86ab811f",
   "metadata": {
    "vscode": {
     "languageId": "markdown"
    }
   },
   "outputs": [],
   "source": []
  }
 ],
 "metadata": {
  "kernelspec": {
   "display_name": "top-wv-claims",
   "language": "python",
   "name": "python3"
  },
  "language_info": {
   "codemirror_mode": {
    "name": "ipython",
    "version": 3
   },
   "file_extension": ".py",
   "mimetype": "text/x-python",
   "name": "python",
   "nbconvert_exporter": "python",
   "pygments_lexer": "ipython3",
   "version": "3.10.16"
  }
 },
 "nbformat": 4,
 "nbformat_minor": 5
}
